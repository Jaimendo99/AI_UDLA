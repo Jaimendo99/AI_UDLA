{
 "cells": [
  {
   "cell_type": "markdown",
   "metadata": {},
   "source": [
    "#### Inteligencia Artificial: UDLA   \n",
    "## Semana 2: Ejercicios de busqueda no informada\n",
    "### Ejercicio 2:\n",
    "<img src=\"./img/excercise2.png\" alt=\"1st Excercise\" width=\"900\">\n"
   ]
  },
  {
   "cell_type": "markdown",
   "metadata": {},
   "source": [
    "**a) Para modelar este problema como un problema de búsqueda, primero definamos los elementos clave:**\n",
    "\n",
    "   Estado inicial: Ambas jarras, Tres y Cuatro, están vacías.\n",
    "   Estado meta: La jarra Cuatro contiene exactamente 2 litros de agua.\n",
    "   Operadores:\n",
    "\n",
    "   1. Llenar la jarra Tres desde el grifo G.\n",
    "      -  `TRES:0` --> `TRES : 3`\n",
    "   2. Llenar la jarra Cuatro desde el grifo G.\n",
    "      - `CUATRO: 0` --> `CUATRO: 4`\n",
    "   3. Vaciar la jarra Tres en la pila P.\n",
    "      - `TRES: {x | x > 0}` --> `TRES: 0`\n",
    "   4. Vaciar la jarra Cuatro en la pila P.\n",
    "      - `CUATRO: {x | x > 0}` --> `CUATRO: 0`\n",
    "   5. Verter el contenido de la jarra Tres en la jarra Cuatro hasta llenar Cuatro o vaciar Tres.\n",
    "      - `TRES: {x | x > 0}, CUATRO: {y | y < 4}` --> `TRES: {x | x < 3}, CUATRO: {y | y + x <= 4}`\n",
    "   6. Verter el contenido de la jarra Cuatro en la jarra Tres hasta llenar Tres o vaciar Cuatro.\n",
    "      - `TRES: {x | x < 3}, CUATRO: {y | y > 0}` --> `TRES: {x | x + y <= 3}, CUATRO: {y | y < 4}`\n",
    "\n",
    "   Costo de cada operador: En este caso, asumiremos que todos los operadores tienen el mismo costo, ya que no hay ninguna razón para considerar que algunos sean más costosos que otros.\n",
    "\n",
    "\n",
    "**b) El agente de resolución del problema posee cierto conocimiento a priori:**\n",
    "- Conoce el estado inicial del problema (ambas jarras están vacías).\n",
    "- Conoce el estado meta del problema (la jarra Cuatro debe contener 2 litros de agua).\n",
    "- Conoce los operadores disponibles y sus precondiciones y postcondiciones.\n",
    "\n",
    "Por ejemplo, la función expandir tomaría el estado actual, aplicaría los operadores disponibles y generaría nuevos estados posibles. Por ejemplo, si estamos en un estado donde Tres está vacía y Cuatro está llena, al aplicar el operador 5 (verter el contenido de Tres en Cuatro), obtendríamos un nuevo estado donde Tres sigue vacía y Cuatro tiene la cantidad de agua que tenía antes más la cantidad de agua que había en Tres, siempre y cuando Cuatro no se llene en exceso. Esto podría seguirse expandiendo hasta llegar al estado meta deseado.\n",
    "\n",
    "\n"
   ]
  },
  {
   "cell_type": "markdown",
   "metadata": {},
   "source": [
    "**c) Para encontrar una solución al problema, una posible secuencia de operadores para dejar exactamente 2 litros de agua en Cuatro sería:**"
   ]
  },
  {
   "cell_type": "markdown",
   "metadata": {},
   "source": [
    "0. -   TRES:0 | CUATRO: 0\n",
    "1. - TRES: 0 | CUATRO: 4\n",
    "2. - TRES: 3 | CUATRO: 1\n",
    "3. - TRES: 0 | CUATRO: 1\n",
    "4. - TRES: 1 | CUATRO: 0\n",
    "5. - TRES: 1 | CUATRO: 4\n",
    "6. - TRES: 3 | CUATRO: 2"
   ]
  }
 ],
 "metadata": {
  "kernelspec": {
   "display_name": "base",
   "language": "python",
   "name": "python3"
  },
  "language_info": {
   "codemirror_mode": {
    "name": "ipython",
    "version": 3
   },
   "file_extension": ".py",
   "mimetype": "text/x-python",
   "name": "python",
   "nbconvert_exporter": "python",
   "pygments_lexer": "ipython3",
   "version": "3.11.7"
  }
 },
 "nbformat": 4,
 "nbformat_minor": 2
}
