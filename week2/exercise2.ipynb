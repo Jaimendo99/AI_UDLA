{
 "cells": [
  {
   "cell_type": "markdown",
   "metadata": {},
   "source": [
    "#### Inteligencia Artificial: UDLA   \n",
    "## Semana 2: Ejercicios de busqueda no informada\n",
    "### Ejercicio 2:\n",
    "<img src=\"./img/excercise2.png\" alt=\"1st Excercise\" width=\"900\">\n"
   ]
  }
 ],
 "metadata": {
  "language_info": {
   "name": "python"
  }
 },
 "nbformat": 4,
 "nbformat_minor": 2
}
